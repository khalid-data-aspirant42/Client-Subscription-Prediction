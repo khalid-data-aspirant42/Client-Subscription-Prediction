{
  "cells": [
    {
      "cell_type": "markdown",
      "id": "d7a77b9b",
      "metadata": {
        "id": "d7a77b9b"
      },
      "source": [
        "### Problem Statement\n",
        "Your client is a retail banking institution. Term deposits are a major source\n",
        "of income for a bank.\n",
        "A term deposit is a cash investment held at a financial institution. Your\n",
        "money is invested for an agreed rate of interest over a fixed amount of\n",
        "time, or term. \\\n",
        "The bank has various outreach plans to sell term deposits to their\n",
        "customers such as email marketing, advertisements, telephonic marketing\n",
        "and digital marketing.\n",
        "Telephonic marketing campaigns still remain one of the most effective way\n",
        "to reach out to people. However, they require huge investment as large call\n",
        "centers are hired to actually execute these campaigns. Hence, it is crucial\n",
        "to identify the customers most likely to convert beforehand so that they can\n",
        "be specifically targeted via call. \\\n",
        "You are provided with the client data such as : age of the client, their job\n",
        "type, their marital status, etc. Along with the client data, you are also\n",
        "provided with the information of the call such as the duration of the call, day\n",
        "and month of the call, etc. Given this information, your task is to predict if\n",
        "the client will subscribe to term deposit.\n"
      ]
    },
    {
      "cell_type": "markdown",
      "id": "549b6f38",
      "metadata": {
        "id": "549b6f38"
      },
      "source": [
        "### Modules and dataset"
      ]
    },
    {
      "cell_type": "code",
      "execution_count": null,
      "id": "d955cae9",
      "metadata": {
        "id": "d955cae9"
      },
      "outputs": [],
      "source": [
        "# Importing Modules\n",
        "import pandas as pd\n",
        "import numpy as np\n",
        "import matplotlib.pyplot as plt\n",
        "%matplotlib inline\n",
        "import seaborn as sns"
      ]
    },
    {
      "cell_type": "code",
      "source": [
        "from google.colab import drive\n",
        "drive.mount('/content/drive')"
      ],
      "metadata": {
        "id": "B5zMZiW2_oV2"
      },
      "id": "B5zMZiW2_oV2",
      "execution_count": null,
      "outputs": []
    },
    {
      "cell_type": "code",
      "source": [
        "# Appliance energy dataset\n",
        "df = pd.read_csv('/content/drive/MyDrive/Intershala Certificate/train.csv')"
      ],
      "metadata": {
        "id": "Ay6i2MBe_ohi"
      },
      "id": "Ay6i2MBe_ohi",
      "execution_count": null,
      "outputs": []
    },
    {
      "cell_type": "code",
      "execution_count": null,
      "id": "a152ccab",
      "metadata": {
        "scrolled": false,
        "id": "a152ccab",
        "outputId": "6a041239-804d-4de7-dab5-9f381012c96a"
      },
      "outputs": [
        {
          "data": {
            "text/html": [
              "<div>\n",
              "<style scoped>\n",
              "    .dataframe tbody tr th:only-of-type {\n",
              "        vertical-align: middle;\n",
              "    }\n",
              "\n",
              "    .dataframe tbody tr th {\n",
              "        vertical-align: top;\n",
              "    }\n",
              "\n",
              "    .dataframe thead th {\n",
              "        text-align: right;\n",
              "    }\n",
              "</style>\n",
              "<table border=\"1\" class=\"dataframe\">\n",
              "  <thead>\n",
              "    <tr style=\"text-align: right;\">\n",
              "      <th></th>\n",
              "      <th>ID</th>\n",
              "      <th>age</th>\n",
              "      <th>job</th>\n",
              "      <th>marital</th>\n",
              "      <th>education</th>\n",
              "      <th>default</th>\n",
              "      <th>balance</th>\n",
              "      <th>housing</th>\n",
              "      <th>loan</th>\n",
              "      <th>contact</th>\n",
              "      <th>day</th>\n",
              "      <th>month</th>\n",
              "      <th>duration</th>\n",
              "      <th>campaign</th>\n",
              "      <th>pdays</th>\n",
              "      <th>previous</th>\n",
              "      <th>poutcome</th>\n",
              "      <th>subscribed</th>\n",
              "    </tr>\n",
              "  </thead>\n",
              "  <tbody>\n",
              "    <tr>\n",
              "      <th>0</th>\n",
              "      <td>26110</td>\n",
              "      <td>56</td>\n",
              "      <td>admin.</td>\n",
              "      <td>married</td>\n",
              "      <td>unknown</td>\n",
              "      <td>no</td>\n",
              "      <td>1933</td>\n",
              "      <td>no</td>\n",
              "      <td>no</td>\n",
              "      <td>telephone</td>\n",
              "      <td>19</td>\n",
              "      <td>nov</td>\n",
              "      <td>44</td>\n",
              "      <td>2</td>\n",
              "      <td>-1</td>\n",
              "      <td>0</td>\n",
              "      <td>unknown</td>\n",
              "      <td>no</td>\n",
              "    </tr>\n",
              "    <tr>\n",
              "      <th>1</th>\n",
              "      <td>40576</td>\n",
              "      <td>31</td>\n",
              "      <td>unknown</td>\n",
              "      <td>married</td>\n",
              "      <td>secondary</td>\n",
              "      <td>no</td>\n",
              "      <td>3</td>\n",
              "      <td>no</td>\n",
              "      <td>no</td>\n",
              "      <td>cellular</td>\n",
              "      <td>20</td>\n",
              "      <td>jul</td>\n",
              "      <td>91</td>\n",
              "      <td>2</td>\n",
              "      <td>-1</td>\n",
              "      <td>0</td>\n",
              "      <td>unknown</td>\n",
              "      <td>no</td>\n",
              "    </tr>\n",
              "    <tr>\n",
              "      <th>2</th>\n",
              "      <td>15320</td>\n",
              "      <td>27</td>\n",
              "      <td>services</td>\n",
              "      <td>married</td>\n",
              "      <td>secondary</td>\n",
              "      <td>no</td>\n",
              "      <td>891</td>\n",
              "      <td>yes</td>\n",
              "      <td>no</td>\n",
              "      <td>cellular</td>\n",
              "      <td>18</td>\n",
              "      <td>jul</td>\n",
              "      <td>240</td>\n",
              "      <td>1</td>\n",
              "      <td>-1</td>\n",
              "      <td>0</td>\n",
              "      <td>unknown</td>\n",
              "      <td>no</td>\n",
              "    </tr>\n",
              "    <tr>\n",
              "      <th>3</th>\n",
              "      <td>43962</td>\n",
              "      <td>57</td>\n",
              "      <td>management</td>\n",
              "      <td>divorced</td>\n",
              "      <td>tertiary</td>\n",
              "      <td>no</td>\n",
              "      <td>3287</td>\n",
              "      <td>no</td>\n",
              "      <td>no</td>\n",
              "      <td>cellular</td>\n",
              "      <td>22</td>\n",
              "      <td>jun</td>\n",
              "      <td>867</td>\n",
              "      <td>1</td>\n",
              "      <td>84</td>\n",
              "      <td>3</td>\n",
              "      <td>success</td>\n",
              "      <td>yes</td>\n",
              "    </tr>\n",
              "    <tr>\n",
              "      <th>4</th>\n",
              "      <td>29842</td>\n",
              "      <td>31</td>\n",
              "      <td>technician</td>\n",
              "      <td>married</td>\n",
              "      <td>secondary</td>\n",
              "      <td>no</td>\n",
              "      <td>119</td>\n",
              "      <td>yes</td>\n",
              "      <td>no</td>\n",
              "      <td>cellular</td>\n",
              "      <td>4</td>\n",
              "      <td>feb</td>\n",
              "      <td>380</td>\n",
              "      <td>1</td>\n",
              "      <td>-1</td>\n",
              "      <td>0</td>\n",
              "      <td>unknown</td>\n",
              "      <td>no</td>\n",
              "    </tr>\n",
              "  </tbody>\n",
              "</table>\n",
              "</div>"
            ],
            "text/plain": [
              "      ID  age         job   marital  education default  balance housing loan  \\\n",
              "0  26110   56      admin.   married    unknown      no     1933      no   no   \n",
              "1  40576   31     unknown   married  secondary      no        3      no   no   \n",
              "2  15320   27    services   married  secondary      no      891     yes   no   \n",
              "3  43962   57  management  divorced   tertiary      no     3287      no   no   \n",
              "4  29842   31  technician   married  secondary      no      119     yes   no   \n",
              "\n",
              "     contact  day month  duration  campaign  pdays  previous poutcome  \\\n",
              "0  telephone   19   nov        44         2     -1         0  unknown   \n",
              "1   cellular   20   jul        91         2     -1         0  unknown   \n",
              "2   cellular   18   jul       240         1     -1         0  unknown   \n",
              "3   cellular   22   jun       867         1     84         3  success   \n",
              "4   cellular    4   feb       380         1     -1         0  unknown   \n",
              "\n",
              "  subscribed  \n",
              "0         no  \n",
              "1         no  \n",
              "2         no  \n",
              "3        yes  \n",
              "4         no  "
            ]
          },
          "execution_count": 513,
          "metadata": {},
          "output_type": "execute_result"
        }
      ],
      "source": [
        "df.head()"
      ]
    },
    {
      "cell_type": "code",
      "execution_count": null,
      "id": "294e900b",
      "metadata": {
        "scrolled": true,
        "id": "294e900b",
        "outputId": "e771ed10-930b-4d09-b9eb-c9223281fdf2"
      },
      "outputs": [
        {
          "data": {
            "text/plain": [
              "Index(['ID', 'age', 'job', 'marital', 'education', 'default', 'balance',\n",
              "       'housing', 'loan', 'contact', 'day', 'month', 'duration', 'campaign',\n",
              "       'pdays', 'previous', 'poutcome', 'subscribed'],\n",
              "      dtype='object')"
            ]
          },
          "execution_count": 514,
          "metadata": {},
          "output_type": "execute_result"
        }
      ],
      "source": [
        "df.columns"
      ]
    },
    {
      "cell_type": "code",
      "execution_count": null,
      "id": "796652a8",
      "metadata": {
        "scrolled": true,
        "id": "796652a8",
        "outputId": "05533174-fe8a-4932-b4e6-bc0ccc51f94a"
      },
      "outputs": [
        {
          "data": {
            "text/plain": [
              "(31647, 18)"
            ]
          },
          "execution_count": 515,
          "metadata": {},
          "output_type": "execute_result"
        }
      ],
      "source": [
        "df.shape"
      ]
    },
    {
      "cell_type": "code",
      "execution_count": null,
      "id": "d3188ce9",
      "metadata": {
        "id": "d3188ce9",
        "outputId": "6daa981d-d9f6-4aa0-f660-89ddbab1c5b2"
      },
      "outputs": [
        {
          "name": "stdout",
          "output_type": "stream",
          "text": [
            "<class 'pandas.core.frame.DataFrame'>\n",
            "RangeIndex: 31647 entries, 0 to 31646\n",
            "Data columns (total 18 columns):\n",
            " #   Column      Non-Null Count  Dtype \n",
            "---  ------      --------------  ----- \n",
            " 0   ID          31647 non-null  int64 \n",
            " 1   age         31647 non-null  int64 \n",
            " 2   job         31647 non-null  object\n",
            " 3   marital     31647 non-null  object\n",
            " 4   education   31647 non-null  object\n",
            " 5   default     31647 non-null  object\n",
            " 6   balance     31647 non-null  int64 \n",
            " 7   housing     31647 non-null  object\n",
            " 8   loan        31647 non-null  object\n",
            " 9   contact     31647 non-null  object\n",
            " 10  day         31647 non-null  int64 \n",
            " 11  month       31647 non-null  object\n",
            " 12  duration    31647 non-null  int64 \n",
            " 13  campaign    31647 non-null  int64 \n",
            " 14  pdays       31647 non-null  int64 \n",
            " 15  previous    31647 non-null  int64 \n",
            " 16  poutcome    31647 non-null  object\n",
            " 17  subscribed  31647 non-null  object\n",
            "dtypes: int64(8), object(10)\n",
            "memory usage: 4.3+ MB\n"
          ]
        }
      ],
      "source": [
        "df.info()"
      ]
    },
    {
      "cell_type": "code",
      "execution_count": null,
      "id": "0d121857",
      "metadata": {
        "id": "0d121857",
        "outputId": "2aac970d-5a9c-4306-8c27-df6ff7ddab98"
      },
      "outputs": [
        {
          "data": {
            "text/html": [
              "<div>\n",
              "<style scoped>\n",
              "    .dataframe tbody tr th:only-of-type {\n",
              "        vertical-align: middle;\n",
              "    }\n",
              "\n",
              "    .dataframe tbody tr th {\n",
              "        vertical-align: top;\n",
              "    }\n",
              "\n",
              "    .dataframe thead th {\n",
              "        text-align: right;\n",
              "    }\n",
              "</style>\n",
              "<table border=\"1\" class=\"dataframe\">\n",
              "  <thead>\n",
              "    <tr style=\"text-align: right;\">\n",
              "      <th></th>\n",
              "      <th>ID</th>\n",
              "      <th>age</th>\n",
              "      <th>balance</th>\n",
              "      <th>day</th>\n",
              "      <th>duration</th>\n",
              "      <th>campaign</th>\n",
              "      <th>pdays</th>\n",
              "      <th>previous</th>\n",
              "    </tr>\n",
              "  </thead>\n",
              "  <tbody>\n",
              "    <tr>\n",
              "      <th>count</th>\n",
              "      <td>31647.000000</td>\n",
              "      <td>31647.000000</td>\n",
              "      <td>31647.000000</td>\n",
              "      <td>31647.000000</td>\n",
              "      <td>31647.000000</td>\n",
              "      <td>31647.000000</td>\n",
              "      <td>31647.000000</td>\n",
              "      <td>31647.000000</td>\n",
              "    </tr>\n",
              "    <tr>\n",
              "      <th>mean</th>\n",
              "      <td>22563.972162</td>\n",
              "      <td>40.957247</td>\n",
              "      <td>1363.890258</td>\n",
              "      <td>15.835466</td>\n",
              "      <td>258.113534</td>\n",
              "      <td>2.765697</td>\n",
              "      <td>39.576042</td>\n",
              "      <td>0.574272</td>\n",
              "    </tr>\n",
              "    <tr>\n",
              "      <th>std</th>\n",
              "      <td>13075.936990</td>\n",
              "      <td>10.625134</td>\n",
              "      <td>3028.304293</td>\n",
              "      <td>8.337097</td>\n",
              "      <td>257.118973</td>\n",
              "      <td>3.113830</td>\n",
              "      <td>99.317592</td>\n",
              "      <td>2.422529</td>\n",
              "    </tr>\n",
              "    <tr>\n",
              "      <th>min</th>\n",
              "      <td>2.000000</td>\n",
              "      <td>18.000000</td>\n",
              "      <td>-8019.000000</td>\n",
              "      <td>1.000000</td>\n",
              "      <td>0.000000</td>\n",
              "      <td>1.000000</td>\n",
              "      <td>-1.000000</td>\n",
              "      <td>0.000000</td>\n",
              "    </tr>\n",
              "    <tr>\n",
              "      <th>25%</th>\n",
              "      <td>11218.000000</td>\n",
              "      <td>33.000000</td>\n",
              "      <td>73.000000</td>\n",
              "      <td>8.000000</td>\n",
              "      <td>104.000000</td>\n",
              "      <td>1.000000</td>\n",
              "      <td>-1.000000</td>\n",
              "      <td>0.000000</td>\n",
              "    </tr>\n",
              "    <tr>\n",
              "      <th>50%</th>\n",
              "      <td>22519.000000</td>\n",
              "      <td>39.000000</td>\n",
              "      <td>450.000000</td>\n",
              "      <td>16.000000</td>\n",
              "      <td>180.000000</td>\n",
              "      <td>2.000000</td>\n",
              "      <td>-1.000000</td>\n",
              "      <td>0.000000</td>\n",
              "    </tr>\n",
              "    <tr>\n",
              "      <th>75%</th>\n",
              "      <td>33879.500000</td>\n",
              "      <td>48.000000</td>\n",
              "      <td>1431.000000</td>\n",
              "      <td>21.000000</td>\n",
              "      <td>318.500000</td>\n",
              "      <td>3.000000</td>\n",
              "      <td>-1.000000</td>\n",
              "      <td>0.000000</td>\n",
              "    </tr>\n",
              "    <tr>\n",
              "      <th>max</th>\n",
              "      <td>45211.000000</td>\n",
              "      <td>95.000000</td>\n",
              "      <td>102127.000000</td>\n",
              "      <td>31.000000</td>\n",
              "      <td>4918.000000</td>\n",
              "      <td>63.000000</td>\n",
              "      <td>871.000000</td>\n",
              "      <td>275.000000</td>\n",
              "    </tr>\n",
              "  </tbody>\n",
              "</table>\n",
              "</div>"
            ],
            "text/plain": [
              "                 ID           age        balance           day      duration  \\\n",
              "count  31647.000000  31647.000000   31647.000000  31647.000000  31647.000000   \n",
              "mean   22563.972162     40.957247    1363.890258     15.835466    258.113534   \n",
              "std    13075.936990     10.625134    3028.304293      8.337097    257.118973   \n",
              "min        2.000000     18.000000   -8019.000000      1.000000      0.000000   \n",
              "25%    11218.000000     33.000000      73.000000      8.000000    104.000000   \n",
              "50%    22519.000000     39.000000     450.000000     16.000000    180.000000   \n",
              "75%    33879.500000     48.000000    1431.000000     21.000000    318.500000   \n",
              "max    45211.000000     95.000000  102127.000000     31.000000   4918.000000   \n",
              "\n",
              "           campaign         pdays      previous  \n",
              "count  31647.000000  31647.000000  31647.000000  \n",
              "mean       2.765697     39.576042      0.574272  \n",
              "std        3.113830     99.317592      2.422529  \n",
              "min        1.000000     -1.000000      0.000000  \n",
              "25%        1.000000     -1.000000      0.000000  \n",
              "50%        2.000000     -1.000000      0.000000  \n",
              "75%        3.000000     -1.000000      0.000000  \n",
              "max       63.000000    871.000000    275.000000  "
            ]
          },
          "execution_count": 517,
          "metadata": {},
          "output_type": "execute_result"
        }
      ],
      "source": [
        "df.describe()"
      ]
    },
    {
      "cell_type": "code",
      "execution_count": null,
      "id": "9047a2eb",
      "metadata": {
        "id": "9047a2eb",
        "outputId": "b7c8df5e-7002-48d7-fd3f-c7a30e9f648f"
      },
      "outputs": [
        {
          "data": {
            "text/plain": [
              "count     28982.000000\n",
              "mean       1518.569043\n",
              "std        3117.102995\n",
              "min           0.000000\n",
              "25%         148.000000\n",
              "50%         544.000000\n",
              "75%        1599.000000\n",
              "max      102127.000000\n",
              "Name: balance, dtype: float64"
            ]
          },
          "execution_count": 518,
          "metadata": {},
          "output_type": "execute_result"
        },
        {
          "data": {
            "image/png": "[encoded data removed]",
            "text/plain": [
              "<Figure size 432x288 with 1 Axes>"
            ]
          },
          "metadata": {
            "needs_background": "light"
          },
          "output_type": "display_data"
        }
      ],
      "source": [
        "df = df[df['balance']>=0]\n",
        "plt.plot(df['balance'])\n",
        "df['balance'].describe()"
      ]
    },
    {
      "cell_type": "code",
      "execution_count": null,
      "id": "55604667",
      "metadata": {
        "id": "55604667",
        "outputId": "fb89dbc3-9164-4a25-8042-6e89fef1f485"
      },
      "outputs": [
        {
          "data": {
            "text/plain": [
              "count    28982.000000\n",
              "mean        41.644227\n",
              "std         98.645974\n",
              "min          1.000000\n",
              "25%          1.000000\n",
              "50%          1.000000\n",
              "75%          1.000000\n",
              "max        871.000000\n",
              "Name: pdays, dtype: float64"
            ]
          },
          "execution_count": 519,
          "metadata": {},
          "output_type": "execute_result"
        },
        {
          "data": {
            "image/png": "[encoded data removed]",
            "text/plain": [
              "<Figure size 432x288 with 1 Axes>"
            ]
          },
          "metadata": {
            "needs_background": "light"
          },
          "output_type": "display_data"
        }
      ],
      "source": [
        "df['pdays'] = df['pdays'].apply(abs)\n",
        "plt.plot(df['pdays'])\n",
        "df['pdays'].describe()"
      ]
    },
    {
      "cell_type": "code",
      "execution_count": null,
      "id": "cb9cce7c",
      "metadata": {
        "id": "cb9cce7c",
        "outputId": "27efa3f0-a283-416a-f09f-80d1698182bf"
      },
      "outputs": [
        {
          "data": {
            "text/plain": [
              "count    28981.000000\n",
              "mean         0.580035\n",
              "std          1.884791\n",
              "min          0.000000\n",
              "25%          0.000000\n",
              "50%          0.000000\n",
              "75%          0.000000\n",
              "max         58.000000\n",
              "Name: previous, dtype: float64"
            ]
          },
          "execution_count": 520,
          "metadata": {},
          "output_type": "execute_result"
        },
        {
          "data": {
            "image/png": "[encoded data removed]",
            "text/plain": [
              "<Figure size 432x288 with 1 Axes>"
            ]
          },
          "metadata": {
            "needs_background": "light"
          },
          "output_type": "display_data"
        }
      ],
      "source": [
        "df = df[df['previous']<100]\n",
        "plt.plot(df['previous'])\n",
        "df['previous'].describe()"
      ]
    },
    {
      "cell_type": "markdown",
      "id": "172d9086",
      "metadata": {
        "id": "172d9086"
      },
      "source": [
        "#### Missing values"
      ]
    },
    {
      "cell_type": "code",
      "execution_count": null,
      "id": "b5fa9650",
      "metadata": {
        "id": "b5fa9650",
        "outputId": "5d7cccde-a8dc-4fe5-d5a8-3fb2388e78f6"
      },
      "outputs": [
        {
          "data": {
            "text/plain": [
              "0"
            ]
          },
          "execution_count": 521,
          "metadata": {},
          "output_type": "execute_result"
        }
      ],
      "source": [
        "df.isnull().sum().sum()"
      ]
    },
    {
      "cell_type": "markdown",
      "id": "615c7881",
      "metadata": {
        "id": "615c7881"
      },
      "source": [
        "#### Univariate Analysis"
      ]
    },
    {
      "cell_type": "code",
      "execution_count": null,
      "id": "329ac49a",
      "metadata": {
        "scrolled": true,
        "id": "329ac49a",
        "outputId": "c4576108-c912-4b83-fdaa-000a717a3b3a"
      },
      "outputs": [
        {
          "data": {
            "text/plain": [
              "<AxesSubplot:>"
            ]
          },
          "execution_count": 522,
          "metadata": {},
          "output_type": "execute_result"
        },
        {
          "data": {
            "image/png": "[encoded data removed]",
            "text/plain": [
              "<Figure size 432x288 with 1 Axes>"
            ]
          },
          "metadata": {
            "needs_background": "light"
          },
          "output_type": "display_data"
        }
      ],
      "source": [
        "df['previous'].plot.box()"
      ]
    },
    {
      "cell_type": "code",
      "execution_count": null,
      "id": "b31c397c",
      "metadata": {
        "id": "b31c397c"
      },
      "outputs": [],
      "source": [
        "df = df[df['previous']<100]"
      ]
    },
    {
      "cell_type": "code",
      "execution_count": null,
      "id": "701f67a0",
      "metadata": {
        "id": "701f67a0",
        "outputId": "d0df9482-e5d1-4a3d-ea9e-38305950a12c"
      },
      "outputs": [
        {
          "data": {
            "text/plain": [
              "management       6238\n",
              "blue-collar      6035\n",
              "technician       4840\n",
              "admin.           3292\n",
              "services         2565\n",
              "retired          1491\n",
              "self-employed    1061\n",
              "entrepreneur      932\n",
              "unemployed        854\n",
              "housemaid         844\n",
              "student           627\n",
              "unknown           202\n",
              "Name: job, dtype: int64"
            ]
          },
          "execution_count": 524,
          "metadata": {},
          "output_type": "execute_result"
        }
      ],
      "source": [
        "df['job'].value_counts()"
      ]
    },
    {
      "cell_type": "code",
      "execution_count": null,
      "id": "a2101431",
      "metadata": {
        "id": "a2101431",
        "outputId": "5c163470-55f4-4a9b-c67a-bb8621737428"
      },
      "outputs": [
        {
          "data": {
            "text/plain": [
              "married     17510\n",
              "single       8237\n",
              "divorced     3234\n",
              "Name: marital, dtype: int64"
            ]
          },
          "execution_count": 525,
          "metadata": {},
          "output_type": "execute_result"
        }
      ],
      "source": [
        "df['marital'].value_counts()"
      ]
    },
    {
      "cell_type": "code",
      "execution_count": null,
      "id": "6dddf8ab",
      "metadata": {
        "id": "6dddf8ab",
        "outputId": "83b857cf-9baf-42cc-cd00-b7f1e7dcaa94"
      },
      "outputs": [
        {
          "data": {
            "text/plain": [
              "secondary    14579\n",
              "tertiary      8800\n",
              "primary       4377\n",
              "unknown       1225\n",
              "Name: education, dtype: int64"
            ]
          },
          "execution_count": 526,
          "metadata": {},
          "output_type": "execute_result"
        }
      ],
      "source": [
        "df['education'].value_counts()"
      ]
    },
    {
      "cell_type": "code",
      "execution_count": null,
      "id": "282f06b2",
      "metadata": {
        "id": "282f06b2",
        "outputId": "c83ce992-d12a-4781-a302-d026343dfcdb"
      },
      "outputs": [
        {
          "data": {
            "text/plain": [
              "no     28715\n",
              "yes      266\n",
              "Name: default, dtype: int64"
            ]
          },
          "execution_count": 527,
          "metadata": {},
          "output_type": "execute_result"
        }
      ],
      "source": [
        "df['default'].value_counts()"
      ]
    },
    {
      "cell_type": "code",
      "execution_count": null,
      "id": "eb0323a7",
      "metadata": {
        "id": "eb0323a7",
        "outputId": "11b5ffea-7597-49e3-a790-c1c62c02c283"
      },
      "outputs": [
        {
          "data": {
            "text/plain": [
              "yes    15663\n",
              "no     13318\n",
              "Name: housing, dtype: int64"
            ]
          },
          "execution_count": 528,
          "metadata": {},
          "output_type": "execute_result"
        }
      ],
      "source": [
        "df['housing'].value_counts()"
      ]
    },
    {
      "cell_type": "code",
      "execution_count": null,
      "id": "e7b59693",
      "metadata": {
        "id": "e7b59693",
        "outputId": "eeef1c04-9674-491d-9e97-0e5071d194c1"
      },
      "outputs": [
        {
          "data": {
            "text/plain": [
              "no     24707\n",
              "yes     4274\n",
              "Name: loan, dtype: int64"
            ]
          },
          "execution_count": 529,
          "metadata": {},
          "output_type": "execute_result"
        }
      ],
      "source": [
        "df['loan'].value_counts()"
      ]
    },
    {
      "cell_type": "code",
      "execution_count": null,
      "id": "a38abbf7",
      "metadata": {
        "id": "a38abbf7",
        "outputId": "a02407f5-920a-4cbb-8bf5-6a9a5f4a4162"
      },
      "outputs": [
        {
          "data": {
            "text/plain": [
              "cellular     18888\n",
              "unknown       8128\n",
              "telephone     1965\n",
              "Name: contact, dtype: int64"
            ]
          },
          "execution_count": 530,
          "metadata": {},
          "output_type": "execute_result"
        }
      ],
      "source": [
        "df['contact'].value_counts()"
      ]
    },
    {
      "cell_type": "code",
      "execution_count": null,
      "id": "b39d3051",
      "metadata": {
        "id": "b39d3051",
        "outputId": "071ecc61-84bc-40ea-92dd-7056115c1e50"
      },
      "outputs": [
        {
          "data": {
            "text/plain": [
              "may    8498\n",
              "jul    4243\n",
              "aug    4115\n",
              "jun    3457\n",
              "nov    2667\n",
              "apr    1955\n",
              "feb    1728\n",
              "jan     907\n",
              "oct     511\n",
              "sep     406\n",
              "mar     338\n",
              "dec     156\n",
              "Name: month, dtype: int64"
            ]
          },
          "execution_count": 531,
          "metadata": {},
          "output_type": "execute_result"
        }
      ],
      "source": [
        "df['month'].value_counts()"
      ]
    },
    {
      "cell_type": "code",
      "execution_count": null,
      "id": "dd3999ed",
      "metadata": {
        "id": "dd3999ed",
        "outputId": "5fce2073-967d-4e11-9471-83f0291e31fc"
      },
      "outputs": [
        {
          "data": {
            "text/plain": [
              "<AxesSubplot:>"
            ]
          },
          "execution_count": 532,
          "metadata": {},
          "output_type": "execute_result"
        },
        {
          "data": {
            "image/png": "[encoded data removed]",
            "text/plain": [
              "<Figure size 432x288 with 1 Axes>"
            ]
          },
          "metadata": {
            "needs_background": "light"
          },
          "output_type": "display_data"
        }
      ],
      "source": [
        "df['month'].value_counts().plot.bar()"
      ]
    },
    {
      "cell_type": "code",
      "execution_count": null,
      "id": "26bfd9c8",
      "metadata": {
        "scrolled": true,
        "id": "26bfd9c8",
        "outputId": "b93c9c41-4497-4bb6-8635-790d2e651c06"
      },
      "outputs": [
        {
          "data": {
            "text/plain": [
              "unknown    23605\n",
              "failure     3119\n",
              "other       1201\n",
              "success     1056\n",
              "Name: poutcome, dtype: int64"
            ]
          },
          "execution_count": 533,
          "metadata": {},
          "output_type": "execute_result"
        }
      ],
      "source": [
        "df['poutcome'].value_counts()"
      ]
    },
    {
      "cell_type": "code",
      "execution_count": null,
      "id": "92975798",
      "metadata": {
        "id": "92975798",
        "outputId": "4f37116b-fd7b-4dc8-856b-c67512c72034"
      },
      "outputs": [
        {
          "data": {
            "text/plain": [
              "no     25402\n",
              "yes     3579\n",
              "Name: subscribed, dtype: int64"
            ]
          },
          "execution_count": 534,
          "metadata": {},
          "output_type": "execute_result"
        }
      ],
      "source": [
        "df['subscribed'].value_counts()"
      ]
    },
    {
      "cell_type": "code",
      "execution_count": null,
      "id": "a1bbd952",
      "metadata": {
        "id": "a1bbd952",
        "outputId": "bf49c5ac-af2a-4101-910f-7207e3838eae"
      },
      "outputs": [
        {
          "data": {
            "text/plain": [
              "<AxesSubplot:>"
            ]
          },
          "execution_count": 535,
          "metadata": {},
          "output_type": "execute_result"
        },
        {
          "data": {
            "image/png": "[encoded data removed]",
            "text/plain": [
              "<Figure size 432x288 with 1 Axes>"
            ]
          },
          "metadata": {
            "needs_background": "light"
          },
          "output_type": "display_data"
        }
      ],
      "source": [
        "df['subscribed'].value_counts().plot.bar()"
      ]
    },
    {
      "cell_type": "markdown",
      "id": "c6b04cc5",
      "metadata": {
        "id": "c6b04cc5"
      },
      "source": [
        "#### Bivariate Analysis"
      ]
    },
    {
      "cell_type": "code",
      "execution_count": null,
      "id": "453a839c",
      "metadata": {
        "id": "453a839c",
        "outputId": "eb857717-58f9-44df-caea-db5efc62c70f"
      },
      "outputs": [
        {
          "name": "stdout",
          "output_type": "stream",
          "text": [
            "subscribed  no  yes\n",
            "age                \n",
            "18           3    5\n",
            "19          15    7\n",
            "20          23   14\n",
            "21          30   15\n",
            "22          57   25\n",
            "..          ..  ...\n",
            "90           0    1\n",
            "92           0    1\n",
            "93           0    1\n",
            "94           1    0\n",
            "95           0    1\n",
            "\n",
            "[76 rows x 2 columns]\n"
          ]
        },
        {
          "data": {
            "image/png": "[encoded data removed]",
            "text/plain": [
              "<Figure size 576x576 with 1 Axes>"
            ]
          },
          "metadata": {
            "needs_background": "light"
          },
          "output_type": "display_data"
        }
      ],
      "source": [
        "print(pd.crosstab(df['age'],df['subscribed']))\n",
        "\n",
        "age=pd.crosstab(df['age'],df['subscribed'])\n",
        "age.div(age.sum(1).astype(float), axis=0).plot(kind=\"bar\", stacked=True, figsize=(8,8))\n",
        "plt.xlabel('Age')\n",
        "plt.ylabel('Percentage')\n",
        "plt.rcParams['figure.figsize'] = (20, 20)"
      ]
    },
    {
      "cell_type": "code",
      "execution_count": null,
      "id": "31ab1def",
      "metadata": {
        "id": "31ab1def",
        "outputId": "f5a596f8-357f-459a-8b2e-71cad0e27e46"
      },
      "outputs": [
        {
          "name": "stdout",
          "output_type": "stream",
          "text": [
            "subscribed       no  yes\n",
            "job                     \n",
            "admin.         2862  430\n",
            "blue-collar    5584  451\n",
            "entrepreneur    855   77\n",
            "housemaid       765   79\n",
            "management     5326  912\n",
            "retired        1136  355\n",
            "self-employed   925  136\n",
            "services       2334  231\n",
            "student         445  182\n",
            "technician     4266  574\n",
            "unemployed      728  126\n",
            "unknown         176   26\n"
          ]
        },
        {
          "data": {
            "text/plain": [
              "Text(0, 0.5, 'Percentage')"
            ]
          },
          "execution_count": 537,
          "metadata": {},
          "output_type": "execute_result"
        },
        {
          "data": {
            "image/png": "[encoded data removed]",
            "text/plain": [
              "<Figure size 576x576 with 1 Axes>"
            ]
          },
          "metadata": {
            "needs_background": "light"
          },
          "output_type": "display_data"
        }
      ],
      "source": [
        "print(pd.crosstab(df['job'],df['subscribed']))\n",
        "\n",
        "job=pd.crosstab(df['job'],df['subscribed'])\n",
        "job.div(job.sum(1).astype(float), axis=0).plot(kind=\"bar\", stacked=True, figsize=(8,8))\n",
        "plt.xlabel('Job')\n",
        "plt.ylabel('Percentage')"
      ]
    },
    {
      "cell_type": "code",
      "execution_count": null,
      "id": "8ff4862c",
      "metadata": {
        "id": "8ff4862c"
      },
      "outputs": [],
      "source": [
        "defaulted = df[df['default']=='yes']"
      ]
    },
    {
      "cell_type": "code",
      "execution_count": null,
      "id": "87a4f5d2",
      "metadata": {
        "id": "87a4f5d2"
      },
      "outputs": [],
      "source": [
        "single = defaulted[defaulted['marital']=='single']"
      ]
    },
    {
      "cell_type": "code",
      "execution_count": null,
      "id": "cc50212f",
      "metadata": {
        "id": "cc50212f"
      },
      "outputs": [],
      "source": [
        "job = single[single['job']=='unemployed']"
      ]
    },
    {
      "cell_type": "code",
      "execution_count": null,
      "id": "0b5a231c",
      "metadata": {
        "id": "0b5a231c",
        "outputId": "0bba6fd1-6c37-4311-a492-c7aa96c5f740"
      },
      "outputs": [
        {
          "data": {
            "text/html": [
              "<div>\n",
              "<style scoped>\n",
              "    .dataframe tbody tr th:only-of-type {\n",
              "        vertical-align: middle;\n",
              "    }\n",
              "\n",
              "    .dataframe tbody tr th {\n",
              "        vertical-align: top;\n",
              "    }\n",
              "\n",
              "    .dataframe thead th {\n",
              "        text-align: right;\n",
              "    }\n",
              "</style>\n",
              "<table border=\"1\" class=\"dataframe\">\n",
              "  <thead>\n",
              "    <tr style=\"text-align: right;\">\n",
              "      <th></th>\n",
              "      <th>ID</th>\n",
              "      <th>age</th>\n",
              "      <th>job</th>\n",
              "      <th>marital</th>\n",
              "      <th>education</th>\n",
              "      <th>default</th>\n",
              "      <th>balance</th>\n",
              "      <th>housing</th>\n",
              "      <th>loan</th>\n",
              "      <th>contact</th>\n",
              "      <th>day</th>\n",
              "      <th>month</th>\n",
              "      <th>duration</th>\n",
              "      <th>campaign</th>\n",
              "      <th>pdays</th>\n",
              "      <th>previous</th>\n",
              "      <th>poutcome</th>\n",
              "      <th>subscribed</th>\n",
              "    </tr>\n",
              "  </thead>\n",
              "  <tbody>\n",
              "    <tr>\n",
              "      <th>0</th>\n",
              "      <td>26110</td>\n",
              "      <td>56</td>\n",
              "      <td>admin.</td>\n",
              "      <td>married</td>\n",
              "      <td>unknown</td>\n",
              "      <td>no</td>\n",
              "      <td>1933</td>\n",
              "      <td>no</td>\n",
              "      <td>no</td>\n",
              "      <td>telephone</td>\n",
              "      <td>19</td>\n",
              "      <td>nov</td>\n",
              "      <td>44</td>\n",
              "      <td>2</td>\n",
              "      <td>1</td>\n",
              "      <td>0</td>\n",
              "      <td>unknown</td>\n",
              "      <td>no</td>\n",
              "    </tr>\n",
              "    <tr>\n",
              "      <th>1</th>\n",
              "      <td>40576</td>\n",
              "      <td>31</td>\n",
              "      <td>unknown</td>\n",
              "      <td>married</td>\n",
              "      <td>secondary</td>\n",
              "      <td>no</td>\n",
              "      <td>3</td>\n",
              "      <td>no</td>\n",
              "      <td>no</td>\n",
              "      <td>cellular</td>\n",
              "      <td>20</td>\n",
              "      <td>jul</td>\n",
              "      <td>91</td>\n",
              "      <td>2</td>\n",
              "      <td>1</td>\n",
              "      <td>0</td>\n",
              "      <td>unknown</td>\n",
              "      <td>no</td>\n",
              "    </tr>\n",
              "    <tr>\n",
              "      <th>2</th>\n",
              "      <td>15320</td>\n",
              "      <td>27</td>\n",
              "      <td>services</td>\n",
              "      <td>married</td>\n",
              "      <td>secondary</td>\n",
              "      <td>no</td>\n",
              "      <td>891</td>\n",
              "      <td>yes</td>\n",
              "      <td>no</td>\n",
              "      <td>cellular</td>\n",
              "      <td>18</td>\n",
              "      <td>jul</td>\n",
              "      <td>240</td>\n",
              "      <td>1</td>\n",
              "      <td>1</td>\n",
              "      <td>0</td>\n",
              "      <td>unknown</td>\n",
              "      <td>no</td>\n",
              "    </tr>\n",
              "    <tr>\n",
              "      <th>3</th>\n",
              "      <td>43962</td>\n",
              "      <td>57</td>\n",
              "      <td>management</td>\n",
              "      <td>divorced</td>\n",
              "      <td>tertiary</td>\n",
              "      <td>no</td>\n",
              "      <td>3287</td>\n",
              "      <td>no</td>\n",
              "      <td>no</td>\n",
              "      <td>cellular</td>\n",
              "      <td>22</td>\n",
              "      <td>jun</td>\n",
              "      <td>867</td>\n",
              "      <td>1</td>\n",
              "      <td>84</td>\n",
              "      <td>3</td>\n",
              "      <td>success</td>\n",
              "      <td>yes</td>\n",
              "    </tr>\n",
              "    <tr>\n",
              "      <th>4</th>\n",
              "      <td>29842</td>\n",
              "      <td>31</td>\n",
              "      <td>technician</td>\n",
              "      <td>married</td>\n",
              "      <td>secondary</td>\n",
              "      <td>no</td>\n",
              "      <td>119</td>\n",
              "      <td>yes</td>\n",
              "      <td>no</td>\n",
              "      <td>cellular</td>\n",
              "      <td>4</td>\n",
              "      <td>feb</td>\n",
              "      <td>380</td>\n",
              "      <td>1</td>\n",
              "      <td>1</td>\n",
              "      <td>0</td>\n",
              "      <td>unknown</td>\n",
              "      <td>no</td>\n",
              "    </tr>\n",
              "    <tr>\n",
              "      <th>...</th>\n",
              "      <td>...</td>\n",
              "      <td>...</td>\n",
              "      <td>...</td>\n",
              "      <td>...</td>\n",
              "      <td>...</td>\n",
              "      <td>...</td>\n",
              "      <td>...</td>\n",
              "      <td>...</td>\n",
              "      <td>...</td>\n",
              "      <td>...</td>\n",
              "      <td>...</td>\n",
              "      <td>...</td>\n",
              "      <td>...</td>\n",
              "      <td>...</td>\n",
              "      <td>...</td>\n",
              "      <td>...</td>\n",
              "      <td>...</td>\n",
              "      <td>...</td>\n",
              "    </tr>\n",
              "    <tr>\n",
              "      <th>31642</th>\n",
              "      <td>36483</td>\n",
              "      <td>29</td>\n",
              "      <td>management</td>\n",
              "      <td>single</td>\n",
              "      <td>tertiary</td>\n",
              "      <td>no</td>\n",
              "      <td>0</td>\n",
              "      <td>yes</td>\n",
              "      <td>no</td>\n",
              "      <td>cellular</td>\n",
              "      <td>12</td>\n",
              "      <td>may</td>\n",
              "      <td>116</td>\n",
              "      <td>2</td>\n",
              "      <td>1</td>\n",
              "      <td>0</td>\n",
              "      <td>unknown</td>\n",
              "      <td>no</td>\n",
              "    </tr>\n",
              "    <tr>\n",
              "      <th>31643</th>\n",
              "      <td>40178</td>\n",
              "      <td>53</td>\n",
              "      <td>management</td>\n",
              "      <td>divorced</td>\n",
              "      <td>tertiary</td>\n",
              "      <td>no</td>\n",
              "      <td>380</td>\n",
              "      <td>no</td>\n",
              "      <td>yes</td>\n",
              "      <td>cellular</td>\n",
              "      <td>5</td>\n",
              "      <td>jun</td>\n",
              "      <td>438</td>\n",
              "      <td>2</td>\n",
              "      <td>1</td>\n",
              "      <td>0</td>\n",
              "      <td>unknown</td>\n",
              "      <td>yes</td>\n",
              "    </tr>\n",
              "    <tr>\n",
              "      <th>31644</th>\n",
              "      <td>19710</td>\n",
              "      <td>32</td>\n",
              "      <td>management</td>\n",
              "      <td>single</td>\n",
              "      <td>tertiary</td>\n",
              "      <td>no</td>\n",
              "      <td>312</td>\n",
              "      <td>no</td>\n",
              "      <td>no</td>\n",
              "      <td>cellular</td>\n",
              "      <td>7</td>\n",
              "      <td>aug</td>\n",
              "      <td>37</td>\n",
              "      <td>3</td>\n",
              "      <td>1</td>\n",
              "      <td>0</td>\n",
              "      <td>unknown</td>\n",
              "      <td>no</td>\n",
              "    </tr>\n",
              "    <tr>\n",
              "      <th>31645</th>\n",
              "      <td>38556</td>\n",
              "      <td>57</td>\n",
              "      <td>technician</td>\n",
              "      <td>married</td>\n",
              "      <td>secondary</td>\n",
              "      <td>no</td>\n",
              "      <td>225</td>\n",
              "      <td>yes</td>\n",
              "      <td>no</td>\n",
              "      <td>telephone</td>\n",
              "      <td>15</td>\n",
              "      <td>may</td>\n",
              "      <td>22</td>\n",
              "      <td>7</td>\n",
              "      <td>337</td>\n",
              "      <td>12</td>\n",
              "      <td>failure</td>\n",
              "      <td>no</td>\n",
              "    </tr>\n",
              "    <tr>\n",
              "      <th>31646</th>\n",
              "      <td>14156</td>\n",
              "      <td>55</td>\n",
              "      <td>management</td>\n",
              "      <td>divorced</td>\n",
              "      <td>secondary</td>\n",
              "      <td>no</td>\n",
              "      <td>204</td>\n",
              "      <td>yes</td>\n",
              "      <td>no</td>\n",
              "      <td>cellular</td>\n",
              "      <td>11</td>\n",
              "      <td>jul</td>\n",
              "      <td>1973</td>\n",
              "      <td>2</td>\n",
              "      <td>1</td>\n",
              "      <td>0</td>\n",
              "      <td>unknown</td>\n",
              "      <td>yes</td>\n",
              "    </tr>\n",
              "  </tbody>\n",
              "</table>\n",
              "<p>28981 rows × 18 columns</p>\n",
              "</div>"
            ],
            "text/plain": [
              "          ID  age         job   marital  education default  balance housing  \\\n",
              "0      26110   56      admin.   married    unknown      no     1933      no   \n",
              "1      40576   31     unknown   married  secondary      no        3      no   \n",
              "2      15320   27    services   married  secondary      no      891     yes   \n",
              "3      43962   57  management  divorced   tertiary      no     3287      no   \n",
              "4      29842   31  technician   married  secondary      no      119     yes   \n",
              "...      ...  ...         ...       ...        ...     ...      ...     ...   \n",
              "31642  36483   29  management    single   tertiary      no        0     yes   \n",
              "31643  40178   53  management  divorced   tertiary      no      380      no   \n",
              "31644  19710   32  management    single   tertiary      no      312      no   \n",
              "31645  38556   57  technician   married  secondary      no      225     yes   \n",
              "31646  14156   55  management  divorced  secondary      no      204     yes   \n",
              "\n",
              "      loan    contact  day month  duration  campaign  pdays  previous  \\\n",
              "0       no  telephone   19   nov        44         2      1         0   \n",
              "1       no   cellular   20   jul        91         2      1         0   \n",
              "2       no   cellular   18   jul       240         1      1         0   \n",
              "3       no   cellular   22   jun       867         1     84         3   \n",
              "4       no   cellular    4   feb       380         1      1         0   \n",
              "...    ...        ...  ...   ...       ...       ...    ...       ...   \n",
              "31642   no   cellular   12   may       116         2      1         0   \n",
              "31643  yes   cellular    5   jun       438         2      1         0   \n",
              "31644   no   cellular    7   aug        37         3      1         0   \n",
              "31645   no  telephone   15   may        22         7    337        12   \n",
              "31646   no   cellular   11   jul      1973         2      1         0   \n",
              "\n",
              "      poutcome subscribed  \n",
              "0      unknown         no  \n",
              "1      unknown         no  \n",
              "2      unknown         no  \n",
              "3      success        yes  \n",
              "4      unknown         no  \n",
              "...        ...        ...  \n",
              "31642  unknown         no  \n",
              "31643  unknown        yes  \n",
              "31644  unknown         no  \n",
              "31645  failure         no  \n",
              "31646  unknown        yes  \n",
              "\n",
              "[28981 rows x 18 columns]"
            ]
          },
          "execution_count": 542,
          "metadata": {},
          "output_type": "execute_result"
        }
      ],
      "source": [
        "df"
      ]
    },
    {
      "cell_type": "markdown",
      "id": "7c4ecb87",
      "metadata": {
        "id": "7c4ecb87"
      },
      "source": [
        "### Transforming categorical data for subscription (yes/no) into (1/0)"
      ]
    },
    {
      "cell_type": "code",
      "execution_count": null,
      "id": "1a0dddf7",
      "metadata": {
        "id": "1a0dddf7"
      },
      "outputs": [],
      "source": [
        "def transform_status(X):\n",
        "    if X == 'yes':\n",
        "        return 1\n",
        "    elif X == 'no':\n",
        "        return 0\n",
        "    else:\n",
        "        return -1\n",
        "    \n",
        "def process_data(df):\n",
        "    df['subscribed'] = df['subscribed'].apply(transform_status)\n",
        "    return df\n",
        "\n",
        "df = process_data(df)"
      ]
    },
    {
      "cell_type": "markdown",
      "id": "abc4491e",
      "metadata": {
        "id": "abc4491e"
      },
      "source": [
        "### Performing train test split"
      ]
    },
    {
      "cell_type": "code",
      "execution_count": null,
      "id": "2d58ed38",
      "metadata": {
        "id": "2d58ed38"
      },
      "outputs": [],
      "source": [
        "std_test_size = 0.4286"
      ]
    },
    {
      "cell_type": "code",
      "execution_count": null,
      "id": "dc04132c",
      "metadata": {
        "id": "dc04132c"
      },
      "outputs": [],
      "source": [
        "df = pd.get_dummies(df)"
      ]
    },
    {
      "cell_type": "code",
      "execution_count": null,
      "id": "583b73ad",
      "metadata": {
        "id": "583b73ad"
      },
      "outputs": [],
      "source": [
        "x = df.drop(['subscribed'], axis=1)\n",
        "y = df['subscribed']"
      ]
    },
    {
      "cell_type": "code",
      "execution_count": null,
      "id": "ad66621a",
      "metadata": {
        "id": "ad66621a"
      },
      "outputs": [],
      "source": [
        "### Performing train test splitfrom sklearn.model_selection import train_test_split\n",
        "x_train, x_test, y_train, y_test = train_test_split(x,y, test_size=0.8, random_state=41)"
      ]
    },
    {
      "cell_type": "markdown",
      "id": "ccbe6590",
      "metadata": {
        "id": "ccbe6590"
      },
      "source": [
        "### Logistic Regression"
      ]
    },
    {
      "cell_type": "code",
      "execution_count": null,
      "id": "866ddb88",
      "metadata": {
        "id": "866ddb88"
      },
      "outputs": [],
      "source": [
        "from sklearn.linear_model import LogisticRegression"
      ]
    },
    {
      "cell_type": "code",
      "execution_count": null,
      "id": "db8f2059",
      "metadata": {
        "id": "db8f2059"
      },
      "outputs": [],
      "source": [
        "model1=LogisticRegression(C=1.0, class_weight=None, dual=False, fit_intercept=True,\n",
        "                   intercept_scaling=1, l1_ratio=None, max_iter=1000, n_jobs=None, penalty='l1',\n",
        "                   random_state=0, solver='liblinear', tol=0.0001, verbose=0,\n",
        "                   warm_start=False)"
      ]
    },
    {
      "cell_type": "code",
      "execution_count": null,
      "id": "6ba65ea1",
      "metadata": {
        "id": "6ba65ea1",
        "outputId": "ff75dcb8-1918-447d-c617-b9527b2445e4"
      },
      "outputs": [
        {
          "data": {
            "text/plain": [
              "LogisticRegression(max_iter=1000, penalty='l1', random_state=0,\n",
              "                   solver='liblinear')"
            ]
          },
          "execution_count": 653,
          "metadata": {},
          "output_type": "execute_result"
        }
      ],
      "source": [
        "model1.fit(x_train,y_train)"
      ]
    },
    {
      "cell_type": "code",
      "execution_count": null,
      "id": "cbb091f8",
      "metadata": {
        "id": "cbb091f8"
      },
      "outputs": [],
      "source": [
        "x_train, x_test, y_train, y_test = train_test_split(x,y, test_size=0.8, random_state=351)"
      ]
    },
    {
      "cell_type": "code",
      "execution_count": null,
      "id": "3e71eecd",
      "metadata": {
        "id": "3e71eecd"
      },
      "outputs": [],
      "source": [
        "y_pred_train = model1.predict(x_train)\n",
        "y_pred_test = model1.predict(x_test)"
      ]
    },
    {
      "cell_type": "code",
      "execution_count": null,
      "id": "035cf7db",
      "metadata": {
        "id": "035cf7db",
        "outputId": "98cc4250-055a-416b-c01b-ad8ea7834b7d"
      },
      "outputs": [
        {
          "data": {
            "text/plain": [
              "0.903295376121463"
            ]
          },
          "execution_count": 705,
          "metadata": {},
          "output_type": "execute_result"
        }
      ],
      "source": [
        "model1.score(x_train,y_train)"
      ]
    },
    {
      "cell_type": "code",
      "execution_count": null,
      "id": "ba783e31",
      "metadata": {
        "id": "ba783e31",
        "outputId": "bb1e3f93-6f00-444a-fa21-01ce48da2ab2"
      },
      "outputs": [
        {
          "name": "stdout",
          "output_type": "stream",
          "text": [
            "Train Accuracy:  0.903295376121463\n",
            "Test Accuracy:  0.9001092644775432\n"
          ]
        }
      ],
      "source": [
        "from sklearn.metrics import accuracy_score\n",
        "print(\"Train Accuracy: \", accuracy_score(y_train, y_pred_train))\n",
        "print(\"Test Accuracy: \", accuracy_score(y_test, y_pred_test))"
      ]
    },
    {
      "cell_type": "markdown",
      "id": "20e8b000",
      "metadata": {
        "id": "20e8b000"
      },
      "source": [
        "#### Generating confusion matrix array and store it in a variable called conmat"
      ]
    },
    {
      "cell_type": "code",
      "execution_count": null,
      "id": "30d24396",
      "metadata": {
        "id": "30d24396"
      },
      "outputs": [],
      "source": [
        "from sklearn.metrics import confusion_matrix\n",
        "con_mat = confusion_matrix(y_test, y_pred_test)"
      ]
    },
    {
      "cell_type": "markdown",
      "id": "e0c33ec4",
      "metadata": {
        "id": "e0c33ec4"
      },
      "source": [
        "#### Now, let’s create a dataframe from the confusion matrix array, called df_cm"
      ]
    },
    {
      "cell_type": "code",
      "execution_count": null,
      "id": "d21d573a",
      "metadata": {
        "id": "d21d573a",
        "outputId": "39224d88-8ded-47b6-86ff-af01855b7e00"
      },
      "outputs": [
        {
          "name": "stdout",
          "output_type": "stream",
          "text": [
            "       0    1\n",
            "0  14792  401\n",
            "1   1336  860\n"
          ]
        }
      ],
      "source": [
        "val = np.mat(con_mat) \n",
        "\n",
        "classnames = list(set(y_train))\n",
        "\n",
        "df_cm = pd.DataFrame(val, index=classnames, columns=classnames)\n",
        "\n",
        "print(df_cm)"
      ]
    },
    {
      "cell_type": "markdown",
      "id": "4cdbfd86",
      "metadata": {
        "id": "4cdbfd86"
      },
      "source": [
        "#### Visualizing the confusion matrix"
      ]
    },
    {
      "cell_type": "code",
      "execution_count": null,
      "id": "9376a6ba",
      "metadata": {
        "id": "9376a6ba",
        "outputId": "ff8e086d-4d38-4988-fded-2061ae7210ea"
      },
      "outputs": [
        {
          "name": "stderr",
          "output_type": "stream",
          "text": [
            "<ipython-input-709-89cac471ca56>:1: FutureWarning: Support for multi-dimensional indexing (e.g. `obj[:, None]`) is deprecated and will be removed in a future version.  Convert to a numpy array before indexing instead.\n",
            "  df_cm = df_cm.astype('float')/df_cm.sum(axis=1)[:, np.newaxis]\n"
          ]
        },
        {
          "data": {
            "image/png": "[encoded data removed]",
            "text/plain": [
              "<Figure size 360x360 with 2 Axes>"
            ]
          },
          "metadata": {
            "needs_background": "light"
          },
          "output_type": "display_data"
        }
      ],
      "source": [
        "df_cm = df_cm.astype('float')/df_cm.sum(axis=1)[:, np.newaxis]\n",
        "plt.figure(figsize = (5,5))\n",
        "heatmap = sns.heatmap(df_cm, annot=True, cmap=\"Blues\")\n",
        "plt.ylabel('True label')\n",
        "plt.xlabel('Predicted label')\n",
        "plt.title('Pecent of correct subscriber classification')\n",
        "plt.show()    "
      ]
    },
    {
      "cell_type": "markdown",
      "id": "07508f19",
      "metadata": {
        "id": "07508f19"
      },
      "source": [
        "### Decision Tree"
      ]
    },
    {
      "cell_type": "code",
      "execution_count": null,
      "id": "19a11c57",
      "metadata": {
        "id": "19a11c57"
      },
      "outputs": [],
      "source": [
        "x_train, x_test, y_train, y_test = train_test_split(x,y, test_size=0.8, random_state=41)"
      ]
    },
    {
      "cell_type": "code",
      "execution_count": null,
      "id": "5784fc91",
      "metadata": {
        "id": "5784fc91"
      },
      "outputs": [],
      "source": [
        "from sklearn.tree import DecisionTreeClassifier"
      ]
    },
    {
      "cell_type": "code",
      "execution_count": null,
      "id": "29a25a93",
      "metadata": {
        "id": "29a25a93"
      },
      "outputs": [],
      "source": [
        "model2 = DecisionTreeClassifier(criterion = \"entropy\",\n",
        "            random_state = 100,max_depth=3, min_samples_split=2, min_samples_leaf=5)"
      ]
    },
    {
      "cell_type": "code",
      "execution_count": null,
      "id": "c1ab2013",
      "metadata": {
        "id": "c1ab2013",
        "outputId": "7e1daf91-5115-4476-c7f7-9ac09dc2e3a2"
      },
      "outputs": [
        {
          "data": {
            "text/plain": [
              "DecisionTreeClassifier(criterion='entropy', max_depth=3, min_samples_leaf=5,\n",
              "                       random_state=100)"
            ]
          },
          "execution_count": 952,
          "metadata": {},
          "output_type": "execute_result"
        }
      ],
      "source": [
        "# fitting the decision tree model\n",
        "model2.fit(x_train,y_train)"
      ]
    },
    {
      "cell_type": "markdown",
      "id": "700fada0",
      "metadata": {
        "id": "700fada0"
      },
      "source": [
        "#### Hyperparameter tuning"
      ]
    },
    {
      "cell_type": "code",
      "execution_count": null,
      "id": "b6453fa0",
      "metadata": {
        "id": "b6453fa0",
        "outputId": "2a6ff434-72a6-4b18-e38f-2da9f9479d65"
      },
      "outputs": [
        {
          "data": {
            "text/plain": [
              "4"
            ]
          },
          "execution_count": 860,
          "metadata": {},
          "output_type": "execute_result"
        }
      ],
      "source": [
        "model2.tree_.max_depth"
      ]
    },
    {
      "cell_type": "code",
      "execution_count": null,
      "id": "97ee3676",
      "metadata": {
        "id": "97ee3676",
        "outputId": "af1965ad-54c2-4bb0-abdd-9626f4faf562"
      },
      "outputs": [
        {
          "name": "stdout",
          "output_type": "stream",
          "text": [
            "The Training Accuracy for max_depth 1 is: 0.8712905452035887\n",
            "The Validation Accuracy for max_depth 1 is: 0.8778089281863274\n",
            "\n",
            "The Training Accuracy for max_depth 2 is: 0.8969979296066253\n",
            "The Validation Accuracy for max_depth 2 is: 0.8955359068363166\n",
            "\n",
            "The Training Accuracy for max_depth 3 is: 0.9026915113871635\n",
            "The Validation Accuracy for max_depth 3 is: 0.9004960103515204\n",
            "\n",
            "The Training Accuracy for max_depth 4 is: 0.9044168391994479\n",
            "The Validation Accuracy for max_depth 4 is: 0.9005391416864352\n",
            "\n",
            "The Training Accuracy for max_depth 5 is: 0.9126984126984127\n",
            "The Validation Accuracy for max_depth 5 is: 0.8978218675868018\n",
            "\n"
          ]
        }
      ],
      "source": [
        "for max_d in range(1,6):\n",
        "    model = DecisionTreeClassifier(max_depth=max_d, random_state=42)\n",
        "    model.fit(x_train, y_train)\n",
        "    print('The Training Accuracy for max_depth {} is:'.format(max_d), model.score(x_train, y_train))\n",
        "    print('The Validation Accuracy for max_depth {} is:'.format(max_d), model.score(x_test, y_test))\n",
        "    print('')"
      ]
    },
    {
      "cell_type": "markdown",
      "id": "07de0863",
      "metadata": {
        "id": "07de0863"
      },
      "source": [
        "To get best result take max_depth = 4"
      ]
    },
    {
      "cell_type": "markdown",
      "id": "dde6297a",
      "metadata": {
        "id": "dde6297a"
      },
      "source": [
        "#### Model continued..."
      ]
    },
    {
      "cell_type": "code",
      "execution_count": null,
      "id": "b7375e9d",
      "metadata": {
        "id": "b7375e9d"
      },
      "outputs": [],
      "source": [
        "x_train, x_test, y_train, y_test = train_test_split(x,y, test_size=0.8, random_state=351)"
      ]
    },
    {
      "cell_type": "code",
      "execution_count": null,
      "id": "b064646c",
      "metadata": {
        "id": "b064646c"
      },
      "outputs": [],
      "source": [
        "# making prediction on the validation set\n",
        "y_pred_train = model2.predict(x_train)\n",
        "y_pred_test = model2.predict(x_test)"
      ]
    },
    {
      "cell_type": "code",
      "execution_count": null,
      "id": "bb2464bf",
      "metadata": {
        "id": "bb2464bf",
        "outputId": "c6ba2623-0b2c-4518-f90e-954df737d236"
      },
      "outputs": [
        {
          "data": {
            "text/plain": [
              "0.9010386115040889"
            ]
          },
          "execution_count": 955,
          "metadata": {},
          "output_type": "execute_result"
        }
      ],
      "source": [
        "model2.score(x,y)"
      ]
    },
    {
      "cell_type": "code",
      "execution_count": null,
      "id": "f76ce8e1",
      "metadata": {
        "id": "f76ce8e1",
        "outputId": "568aed54-5d1e-47c8-8687-681d3d3eb36a"
      },
      "outputs": [
        {
          "name": "stdout",
          "output_type": "stream",
          "text": [
            "Train Accuracy:  0.893719806763285\n",
            "Test Accuracy:  0.9028682337718352\n"
          ]
        }
      ],
      "source": [
        "from sklearn.metrics import accuracy_score\n",
        "print(\"Train Accuracy: \", accuracy_score(y_train, y_pred_train))\n",
        "print(\"Test Accuracy: \", accuracy_score(y_test, y_pred_test))"
      ]
    },
    {
      "cell_type": "markdown",
      "id": "a254db30",
      "metadata": {
        "id": "a254db30"
      },
      "source": [
        "#### Generating confusion matrix array and store it in a variable called conmat"
      ]
    },
    {
      "cell_type": "code",
      "execution_count": null,
      "id": "0f483445",
      "metadata": {
        "id": "0f483445"
      },
      "outputs": [],
      "source": [
        "from sklearn.metrics import confusion_matrix\n",
        "con_mat = confusion_matrix(y_test, y_pred_test)"
      ]
    },
    {
      "cell_type": "markdown",
      "id": "de69c5b6",
      "metadata": {
        "id": "de69c5b6"
      },
      "source": [
        "#### Now, let’s create a dataframe from the confusion matrix array, called df_cm"
      ]
    },
    {
      "cell_type": "code",
      "execution_count": null,
      "id": "49f4ae59",
      "metadata": {
        "id": "49f4ae59",
        "outputId": "da2ef919-aab2-4d96-95e1-5d6282ba2422"
      },
      "outputs": [
        {
          "name": "stdout",
          "output_type": "stream",
          "text": [
            "       0     1\n",
            "0  19260  1089\n",
            "1   1163  1673\n"
          ]
        }
      ],
      "source": [
        "val = np.mat(con_mat) \n",
        "\n",
        "classnames = list(set(y_train))\n",
        "\n",
        "df_cm = pd.DataFrame(val, index=classnames, columns=classnames)\n",
        "\n",
        "print(df_cm)"
      ]
    },
    {
      "cell_type": "markdown",
      "id": "bbbe9f65",
      "metadata": {
        "id": "bbbe9f65"
      },
      "source": [
        "#### Visualizing the confusion matrix"
      ]
    },
    {
      "cell_type": "code",
      "execution_count": null,
      "id": "ccbc7a7f",
      "metadata": {
        "id": "ccbc7a7f",
        "outputId": "50879686-7a55-4540-8a7d-0498e0fe4c1f"
      },
      "outputs": [
        {
          "name": "stderr",
          "output_type": "stream",
          "text": [
            "<ipython-input-959-826c403d7975>:1: FutureWarning: Support for multi-dimensional indexing (e.g. `obj[:, None]`) is deprecated and will be removed in a future version.  Convert to a numpy array before indexing instead.\n",
            "  df_cm = df_cm.astype('float') / df_cm.sum(axis=1)[:, np.newaxis]\n"
          ]
        },
        {
          "data": {
            "image/png": "[encoded data removed]",
            "text/plain": [
              "<Figure size 360x360 with 2 Axes>"
            ]
          },
          "metadata": {
            "needs_background": "light"
          },
          "output_type": "display_data"
        }
      ],
      "source": [
        "df_cm = df_cm.astype('float') / df_cm.sum(axis=1)[:, np.newaxis]\n",
        "plt.figure(figsize = (5,5))\n",
        "heatmap = sns.heatmap(df_cm, annot=True, cmap=\"Blues\")\n",
        "plt.ylabel('True label')\n",
        "plt.xlabel('Predicted label')\n",
        "plt.title('Pecent of correct subscriber classification')\n",
        "plt.show()    "
      ]
    },
    {
      "cell_type": "markdown",
      "id": "8a7927f0",
      "metadata": {
        "id": "8a7927f0"
      },
      "source": [
        "### Hyperparameter tuning in decision tree"
      ]
    },
    {
      "cell_type": "code",
      "execution_count": null,
      "id": "bef940f6",
      "metadata": {
        "id": "bef940f6",
        "outputId": "06a9d839-4536-4853-9265-5213ef87fd52"
      },
      "outputs": [
        {
          "data": {
            "text/plain": [
              "4"
            ]
          },
          "execution_count": 860,
          "metadata": {},
          "output_type": "execute_result"
        }
      ],
      "source": [
        "model2.tree_.max_depth"
      ]
    },
    {
      "cell_type": "code",
      "execution_count": null,
      "id": "fc98cc10",
      "metadata": {
        "id": "fc98cc10",
        "outputId": "f776c7ea-25e2-402b-ca33-6142b65e3af4"
      },
      "outputs": [
        {
          "name": "stdout",
          "output_type": "stream",
          "text": [
            "The Training Accuracy for max_depth 1 is: 0.8712905452035887\n",
            "The Validation Accuracy for max_depth 1 is: 0.8778089281863274\n",
            "\n",
            "The Training Accuracy for max_depth 2 is: 0.8969979296066253\n",
            "The Validation Accuracy for max_depth 2 is: 0.8955359068363166\n",
            "\n",
            "The Training Accuracy for max_depth 3 is: 0.9026915113871635\n",
            "The Validation Accuracy for max_depth 3 is: 0.9004960103515204\n",
            "\n",
            "The Training Accuracy for max_depth 4 is: 0.9044168391994479\n",
            "The Validation Accuracy for max_depth 4 is: 0.9005391416864352\n",
            "\n",
            "The Training Accuracy for max_depth 5 is: 0.9126984126984127\n",
            "The Validation Accuracy for max_depth 5 is: 0.8978218675868018\n",
            "\n"
          ]
        }
      ],
      "source": [
        "for max_d in range(1,6):\n",
        "    model = DecisionTreeClassifier(max_depth=max_d, random_state=42)\n",
        "    model.fit(x_train, y_train)\n",
        "    print('The Training Accuracy for max_depth {} is:'.format(max_d), model.score(x_train, y_train))\n",
        "    print('The Validation Accuracy for max_depth {} is:'.format(max_d), model.score(x_test, y_test))\n",
        "    print('')"
      ]
    },
    {
      "cell_type": "markdown",
      "id": "f6b43bf8",
      "metadata": {
        "id": "f6b43bf8"
      },
      "source": [
        "### Random Forest"
      ]
    },
    {
      "cell_type": "code",
      "execution_count": null,
      "id": "102c647d",
      "metadata": {
        "id": "102c647d"
      },
      "outputs": [],
      "source": [
        "x_train, x_test, y_train, y_test = train_test_split(x,y, test_size=0.8, random_state=41)"
      ]
    },
    {
      "cell_type": "code",
      "execution_count": null,
      "id": "21dec607",
      "metadata": {
        "id": "21dec607"
      },
      "outputs": [],
      "source": [
        "from sklearn.ensemble import RandomForestClassifier"
      ]
    },
    {
      "cell_type": "code",
      "execution_count": null,
      "id": "e9d5e2ad",
      "metadata": {
        "id": "e9d5e2ad",
        "outputId": "7182c9a7-de6e-402a-eed9-5983df14d589"
      },
      "outputs": [
        {
          "name": "stderr",
          "output_type": "stream",
          "text": [
            "C:\\Users\\Administrator\\anaconda3\\lib\\site-packages\\sklearn\\tree\\_classes.py:315: FutureWarning: The min_impurity_split parameter is deprecated. Its default value has changed from 1e-7 to 0 in version 0.23, and it will be removed in 1.0 (renaming of 0.25). Use the min_impurity_decrease parameter instead.\n",
            "  warnings.warn(\n",
            "C:\\Users\\Administrator\\anaconda3\\lib\\site-packages\\sklearn\\tree\\_classes.py:315: FutureWarning: The min_impurity_split parameter is deprecated. Its default value has changed from 1e-7 to 0 in version 0.23, and it will be removed in 1.0 (renaming of 0.25). Use the min_impurity_decrease parameter instead.\n",
            "  warnings.warn(\n",
            "C:\\Users\\Administrator\\anaconda3\\lib\\site-packages\\sklearn\\tree\\_classes.py:315: FutureWarning: The min_impurity_split parameter is deprecated. Its default value has changed from 1e-7 to 0 in version 0.23, and it will be removed in 1.0 (renaming of 0.25). Use the min_impurity_decrease parameter instead.\n",
            "  warnings.warn(\n",
            "C:\\Users\\Administrator\\anaconda3\\lib\\site-packages\\sklearn\\tree\\_classes.py:315: FutureWarning: The min_impurity_split parameter is deprecated. Its default value has changed from 1e-7 to 0 in version 0.23, and it will be removed in 1.0 (renaming of 0.25). Use the min_impurity_decrease parameter instead.\n",
            "  warnings.warn(\n",
            "C:\\Users\\Administrator\\anaconda3\\lib\\site-packages\\sklearn\\tree\\_classes.py:315: FutureWarning: The min_impurity_split parameter is deprecated. Its default value has changed from 1e-7 to 0 in version 0.23, and it will be removed in 1.0 (renaming of 0.25). Use the min_impurity_decrease parameter instead.\n",
            "  warnings.warn(\n",
            "C:\\Users\\Administrator\\anaconda3\\lib\\site-packages\\sklearn\\tree\\_classes.py:315: FutureWarning: The min_impurity_split parameter is deprecated. Its default value has changed from 1e-7 to 0 in version 0.23, and it will be removed in 1.0 (renaming of 0.25). Use the min_impurity_decrease parameter instead.\n",
            "  warnings.warn(\n",
            "C:\\Users\\Administrator\\anaconda3\\lib\\site-packages\\sklearn\\tree\\_classes.py:315: FutureWarning: The min_impurity_split parameter is deprecated. Its default value has changed from 1e-7 to 0 in version 0.23, and it will be removed in 1.0 (renaming of 0.25). Use the min_impurity_decrease parameter instead.\n",
            "  warnings.warn(\n",
            "C:\\Users\\Administrator\\anaconda3\\lib\\site-packages\\sklearn\\tree\\_classes.py:315: FutureWarning: The min_impurity_split parameter is deprecated. Its default value has changed from 1e-7 to 0 in version 0.23, and it will be removed in 1.0 (renaming of 0.25). Use the min_impurity_decrease parameter instead.\n",
            "  warnings.warn(\n",
            "C:\\Users\\Administrator\\anaconda3\\lib\\site-packages\\sklearn\\tree\\_classes.py:315: FutureWarning: The min_impurity_split parameter is deprecated. Its default value has changed from 1e-7 to 0 in version 0.23, and it will be removed in 1.0 (renaming of 0.25). Use the min_impurity_decrease parameter instead.\n",
            "  warnings.warn(\n",
            "C:\\Users\\Administrator\\anaconda3\\lib\\site-packages\\sklearn\\tree\\_classes.py:315: FutureWarning: The min_impurity_split parameter is deprecated. Its default value has changed from 1e-7 to 0 in version 0.23, and it will be removed in 1.0 (renaming of 0.25). Use the min_impurity_decrease parameter instead.\n",
            "  warnings.warn(\n"
          ]
        },
        {
          "data": {
            "text/plain": [
              "RandomForestClassifier(min_impurity_split=1e-07, n_estimators=10, n_jobs=2,\n",
              "                       random_state=0)"
            ]
          },
          "execution_count": 723,
          "metadata": {},
          "output_type": "execute_result"
        }
      ],
      "source": [
        "model3 = RandomForestClassifier(bootstrap=True, class_weight=None, criterion='gini',\n",
        "            max_depth=None, max_features='auto', max_leaf_nodes=None,\n",
        "            min_impurity_split=1e-07, min_samples_leaf=1,\n",
        "            min_samples_split=2, min_weight_fraction_leaf=0.0,\n",
        "            n_estimators=10, n_jobs=2, oob_score=False, random_state=0,\n",
        "            verbose=0, warm_start=False)\n",
        "model3.fit(x_train, y_train)"
      ]
    },
    {
      "cell_type": "code",
      "execution_count": null,
      "id": "409df902",
      "metadata": {
        "id": "409df902"
      },
      "outputs": [],
      "source": [
        "x_train, x_test, y_train, y_test = train_test_split(x,y, test_size=0.8, random_state=351)"
      ]
    },
    {
      "cell_type": "code",
      "execution_count": null,
      "id": "21ca2361",
      "metadata": {
        "id": "21ca2361"
      },
      "outputs": [],
      "source": [
        "# making prediction on the validation set\n",
        "y_pred_train = model3.predict(x_train)\n",
        "y_pred_test = model3.predict(x_test)"
      ]
    },
    {
      "cell_type": "code",
      "execution_count": null,
      "id": "03c3cbae",
      "metadata": {
        "id": "03c3cbae",
        "outputId": "f37d1cd6-7179-44a7-ee43-4425cfddd73c"
      },
      "outputs": [
        {
          "data": {
            "text/plain": [
              "0.9139061421670117"
            ]
          },
          "execution_count": 726,
          "metadata": {},
          "output_type": "execute_result"
        }
      ],
      "source": [
        "model3.score(x_train,y_train)"
      ]
    },
    {
      "cell_type": "code",
      "execution_count": null,
      "id": "b4f01e7c",
      "metadata": {
        "id": "b4f01e7c",
        "outputId": "536a13ba-2259-4922-a765-9bf6399a3d6b"
      },
      "outputs": [
        {
          "name": "stdout",
          "output_type": "stream",
          "text": [
            "Train Accuracy:  0.9139061421670117\n",
            "Test Accuracy:  0.9163252102652577\n"
          ]
        }
      ],
      "source": [
        "from sklearn.metrics import accuracy_score\n",
        "print(\"Train Accuracy: \", accuracy_score(y_train, y_pred_train))\n",
        "print(\"Test Accuracy: \", accuracy_score(y_test, y_pred_test))"
      ]
    },
    {
      "cell_type": "markdown",
      "id": "73b8dda6",
      "metadata": {
        "id": "73b8dda6"
      },
      "source": [
        "#### Generating confusion matrix array and store it in a variable called conmat"
      ]
    },
    {
      "cell_type": "code",
      "execution_count": null,
      "id": "d6476cb8",
      "metadata": {
        "id": "d6476cb8"
      },
      "outputs": [],
      "source": [
        "from sklearn.metrics import confusion_matrix\n",
        "con_mat = confusion_matrix(y_test, y_pred_test)"
      ]
    },
    {
      "cell_type": "markdown",
      "id": "a84bb64b",
      "metadata": {
        "id": "a84bb64b"
      },
      "source": [
        "#### Now, let’s create a dataframe from the confusion matrix array, called df_cm"
      ]
    },
    {
      "cell_type": "code",
      "execution_count": null,
      "id": "d54e0863",
      "metadata": {
        "id": "d54e0863",
        "outputId": "ba021f79-fe9d-438d-8b6f-047faf6bf6ff"
      },
      "outputs": [
        {
          "name": "stdout",
          "output_type": "stream",
          "text": [
            "       0     1\n",
            "0  19871   478\n",
            "1   1462  1374\n"
          ]
        }
      ],
      "source": [
        "val = np.mat(con_mat) \n",
        "\n",
        "classnames = list(set(y_train))\n",
        "\n",
        "df_cm = pd.DataFrame(val, index=classnames, columns=classnames)\n",
        "\n",
        "print(df_cm)"
      ]
    },
    {
      "cell_type": "markdown",
      "id": "f85f8d17",
      "metadata": {
        "id": "f85f8d17"
      },
      "source": [
        "#### Visualizing the confusion matrix"
      ]
    },
    {
      "cell_type": "code",
      "execution_count": null,
      "id": "81a7a36d",
      "metadata": {
        "id": "81a7a36d",
        "outputId": "1548b5d6-dfed-44d5-9ac0-545185e7bdd1"
      },
      "outputs": [
        {
          "name": "stderr",
          "output_type": "stream",
          "text": [
            "<ipython-input-730-826c403d7975>:1: FutureWarning: Support for multi-dimensional indexing (e.g. `obj[:, None]`) is deprecated and will be removed in a future version.  Convert to a numpy array before indexing instead.\n",
            "  df_cm = df_cm.astype('float') / df_cm.sum(axis=1)[:, np.newaxis]\n"
          ]
        },
        {
          "data": {
            "image/png": "[encoded data removed]",
            "text/plain": [
              "<Figure size 360x360 with 2 Axes>"
            ]
          },
          "metadata": {
            "needs_background": "light"
          },
          "output_type": "display_data"
        }
      ],
      "source": [
        "df_cm = df_cm.astype('float') / df_cm.sum(axis=1)[:, np.newaxis]\n",
        "plt.figure(figsize = (5,5))\n",
        "heatmap = sns.heatmap(df_cm, annot=True, cmap=\"Blues\")\n",
        "plt.ylabel('True label')\n",
        "plt.xlabel('Predicted label')\n",
        "plt.title('Pecent of correct subscriber classification')\n",
        "plt.show()    "
      ]
    },
    {
      "cell_type": "markdown",
      "id": "30f660a5",
      "metadata": {
        "id": "30f660a5"
      },
      "source": [
        "# Conclusion - Decision tree is the best fit model for the provided data with 95% of currectly predicting not subscribed and 59% of currectly predictive subscribed."
      ]
    }
  ],
  "metadata": {
    "kernelspec": {
      "display_name": "Python 3",
      "language": "python",
      "name": "python3"
    },
    "language_info": {
      "codemirror_mode": {
        "name": "ipython",
        "version": 3
      },
      "file_extension": ".py",
      "mimetype": "text/x-python",
      "name": "python",
      "nbconvert_exporter": "python",
      "pygments_lexer": "ipython3",
      "version": "3.8.8"
    },
    "colab": {
      "provenance": [],
      "collapsed_sections": []
    }
  },
  "nbformat": 4,
  "nbformat_minor": 5
}